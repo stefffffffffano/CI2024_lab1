{
 "cells": [
  {
   "cell_type": "markdown",
   "metadata": {},
   "source": [
    "# Set Cover problem\n",
    "\n",
    "See: https://en.wikipedia.org/wiki/Set_cover_problem"
   ]
  },
  {
   "cell_type": "code",
   "execution_count": 33,
   "metadata": {},
   "outputs": [],
   "source": [
    "from random import random, seed\n",
    "import math\n",
    "from itertools import product\n",
    "import numpy as np\n",
    "\n",
    "from icecream import ic"
   ]
  },
  {
   "cell_type": "markdown",
   "metadata": {},
   "source": [
    "## Reproducible Initialization\n",
    "\n",
    "If you want to get reproducible results, use `rng` (and restart the kernel); for non-reproducible ones, use `np.random`."
   ]
  },
  {
   "cell_type": "code",
   "execution_count": 34,
   "metadata": {},
   "outputs": [],
   "source": [
    "UNIVERSE_SIZE = 1000\n",
    "NUM_SETS = 100\n",
    "DENSITY = 0.2 #how dense are the sets, how many elements are covered by each set\n",
    "\n",
    "\n",
    "rng = np.random.Generator(np.random.PCG64([UNIVERSE_SIZE, NUM_SETS, int(10_000 * DENSITY)]))"
   ]
  },
  {
   "cell_type": "code",
   "execution_count": 35,
   "metadata": {},
   "outputs": [],
   "source": [
    "# DON'T EDIT THESE LINES!\n",
    "\n",
    "SETS = np.random.random((NUM_SETS, UNIVERSE_SIZE)) < DENSITY\n",
    "for s in range(UNIVERSE_SIZE):\n",
    "    if not np.any(SETS[:, s]):\n",
    "        SETS[np.random.randint(NUM_SETS), s] = True\n",
    "COSTS = np.pow(SETS.sum(axis=1), 1.1)"
   ]
  },
  {
   "cell_type": "markdown",
   "metadata": {},
   "source": [
    "## Helper Functions"
   ]
  },
  {
   "cell_type": "code",
   "execution_count": 36,
   "metadata": {},
   "outputs": [],
   "source": [
    "def valid(solution):\n",
    "    \"\"\"Checks wether solution is valid (ie. covers all universe)\"\"\"\n",
    "    return np.all(np.logical_or.reduce(SETS[solution]))\n",
    "\n",
    "\n",
    "def cost(solution):\n",
    "    \"\"\"Returns the cost of a solution (to be minimized)\"\"\"\n",
    "    return COSTS[solution].sum()\n"
   ]
  },
  {
   "cell_type": "code",
   "execution_count": 37,
   "metadata": {},
   "outputs": [],
   "source": [
    "#The fitness function evaluate the goodness of a solution\n",
    "def fitness(solution: np.ndarray):\n",
    "    return (valid(solution), -cost(solution))"
   ]
  },
  {
   "cell_type": "markdown",
   "metadata": {},
   "source": [
    "## Optimized (somehow clever) starting point computation "
   ]
  },
  {
   "cell_type": "code",
   "execution_count": 38,
   "metadata": {},
   "outputs": [],
   "source": [
    "#is it good to start from a smarter solution?\n",
    "#It could be, but then you could find yourself stuck close to a local optima\n",
    "#Let's try with a smarter starting point\n",
    "#Let's first select critical sets, those that contains an element that is not covered by any other set\n",
    "\n",
    "is_critical = np.zeros(NUM_SETS, dtype=bool) #It could be also used later to avoid removing critical sets\n",
    "for element in range(UNIVERSE_SIZE):\n",
    "    sets_covering_element = np.where(SETS[:, element])[0]\n",
    "    if len(sets_covering_element) == 1:  # If the element is covered by only one set\n",
    "        is_critical[sets_covering_element[0]] = True\n",
    "\n",
    "starting_optimized = np.full(NUM_SETS, False)\n",
    "\n",
    "starting_optimized[is_critical] = True #We have first added critical sets to the solution\n",
    "\n",
    "#COSTS are sorted in increasing order, so we can take the sets with the lowest cost until the solution is not valid\n",
    "\n",
    "sorted_indices = np.argsort(COSTS)\n",
    "\n",
    "sorted_COSTS = COSTS[sorted_indices]\n",
    "sorted_SETS = SETS[sorted_indices]\n",
    "\n",
    "#solution = np.full(NUM_SETS, False)\n",
    "i=0\n",
    "\n",
    "while(not valid(starting_optimized)):\n",
    "    starting_optimized[i] = True\n",
    "    i+=1\n"
   ]
  },
  {
   "cell_type": "markdown",
   "metadata": {},
   "source": [
    "## Single mutation, multiple mutation and simulated annealing definition"
   ]
  },
  {
   "cell_type": "code",
   "execution_count": 39,
   "metadata": {},
   "outputs": [],
   "source": [
    "def single_mutation(solution: np.ndarray)->np.ndarray:\n",
    "    new_solution = solution.copy()\n",
    "    i = rng.integers(0, NUM_SETS)\n",
    "    new_solution[i] = not new_solution[i]\n",
    "    return new_solution\n",
    "\n",
    "def multiple_mutation(solution: np.ndarray)->np.ndarray:  \n",
    "    new_solution = solution.copy()\n",
    "    #The numerical value specify the probability of mutation, 0.01 = 1%. \n",
    "    mask = rng.random(NUM_SETS) < 0.1 \n",
    "    new_solution = np.logical_xor(solution,mask)\n",
    "    returned_solution = np.logical_or(new_solution, is_critical) #keep sets that are critical\n",
    "    return returned_solution"
   ]
  },
  {
   "cell_type": "code",
   "execution_count": 40,
   "metadata": {},
   "outputs": [],
   "source": [
    "get_neighbor = multiple_mutation  \n",
    "\n",
    "def simulated_annealing(objective, solution, n_iterations, temp):\n",
    "    # Initial solution\n",
    "    best = solution\n",
    "    best_eval = objective(best)[1]\n",
    "    current, current_eval = best, best_eval\n",
    "\n",
    "    for i in range(n_iterations):\n",
    "        # Decrease temperature\n",
    "        t = temp / (1 + 0.1 * i)\n",
    "        \n",
    "        # Generate candidate solution\n",
    "        candidate = get_neighbor(current)\n",
    "        candidate_eval = objective(candidate)[1]\n",
    "        \n",
    "        # Check if we should keep the new solution\n",
    "        delta_eval = (current_eval - candidate_eval) / t\n",
    "        max_exp_argument = 709  \n",
    "       \n",
    "        if candidate_eval > best_eval or rng.random() < math.exp(min(delta_eval, max_exp_argument)):\n",
    "            current, current_eval = candidate, candidate_eval\n",
    "            if valid(candidate) and candidate_eval > best_eval: \n",
    "                best, best_eval = candidate, candidate_eval\n",
    "\n",
    "    return (best, best_eval)"
   ]
  },
  {
   "cell_type": "markdown",
   "metadata": {},
   "source": [
    "## RESULTS  "
   ]
  },
  {
   "cell_type": "code",
   "execution_count": 41,
   "metadata": {},
   "outputs": [
    {
     "name": "stderr",
     "output_type": "stream",
     "text": [
      "ic| solution_fitness: (np.True_, np.float64(-11954.831989556496))\n",
      "ic| best_eval: np.float64(-11954.831989556496)\n"
     ]
    },
    {
     "data": {
      "text/plain": [
       "np.float64(-11954.831989556496)"
      ]
     },
     "execution_count": 41,
     "metadata": {},
     "output_type": "execute_result"
    }
   ],
   "source": [
    "#Simulated annealing starting from the optimized starting solution\n",
    "solution_fitness = fitness(starting_optimized)\n",
    "ic(solution_fitness)\n",
    "solution_for_annealing = starting_optimized.copy()\n",
    "(best,best_eval) = simulated_annealing(fitness, solution_for_annealing, 10000, 1)\n",
    "ic(best_eval)"
   ]
  },
  {
   "cell_type": "code",
   "execution_count": 42,
   "metadata": {},
   "outputs": [
    {
     "name": "stderr",
     "output_type": "stream",
     "text": [
      "ic| solution_fitness: (np.True_, np.float64(-34139.66312253977))\n",
      "ic| best_eval: np.float64(-14045.252655886718)\n"
     ]
    },
    {
     "data": {
      "text/plain": [
       "np.float64(-14045.252655886718)"
      ]
     },
     "execution_count": 42,
     "metadata": {},
     "output_type": "execute_result"
    }
   ],
   "source": [
    "#Simulated annealing starting from the full solution\n",
    "solution_for_annealing = np.full(NUM_SETS, True)\n",
    "solution_fitness = fitness(solution_for_annealing)\n",
    "ic(solution_fitness)\n",
    "(best,best_eval) = simulated_annealing(fitness, solution_for_annealing, 10000, 1)\n",
    "ic(best_eval)"
   ]
  },
  {
   "cell_type": "code",
   "execution_count": 43,
   "metadata": {},
   "outputs": [
    {
     "name": "stderr",
     "output_type": "stream",
     "text": [
      "ic| fitness(solution2): (np.True_, np.float64(-7337.505167918427))\n"
     ]
    },
    {
     "data": {
      "text/plain": [
       "(np.True_, np.float64(-7337.505167918427))"
      ]
     },
     "execution_count": 43,
     "metadata": {},
     "output_type": "execute_result"
    }
   ],
   "source": [
    "#multiple tweak starting from the optimized solution\n",
    "solution2 = starting_optimized.copy()\n",
    "solution_fitness = fitness(solution2)\n",
    "tweak = multiple_mutation\n",
    "for steps in range(10_000):\n",
    "    new_solution = tweak(solution2)\n",
    "    new_fitness = fitness(new_solution)\n",
    "    if new_fitness > solution_fitness:\n",
    "        solution_fitness = new_fitness\n",
    "        solution2 = new_solution\n",
    "        #ic(fitness(solution))\n",
    "\n",
    "ic(fitness(solution2))"
   ]
  },
  {
   "cell_type": "code",
   "execution_count": 44,
   "metadata": {},
   "outputs": [
    {
     "name": "stderr",
     "output_type": "stream",
     "text": [
      "ic| fitness(solution2): (np.True_, np.float64(-34139.66312253977))\n"
     ]
    },
    {
     "name": "stderr",
     "output_type": "stream",
     "text": [
      "ic| fitness(solution2): (np.True_, np.float64(-7313.036934952619))\n"
     ]
    },
    {
     "data": {
      "text/plain": [
       "(np.True_, np.float64(-7313.036934952619))"
      ]
     },
     "execution_count": 44,
     "metadata": {},
     "output_type": "execute_result"
    }
   ],
   "source": [
    "#multiple tweak starting from the full solution (all sets)\n",
    "solution2 = np.full(NUM_SETS, True)\n",
    "ic(fitness(solution2))\n",
    "solution_fitness = fitness(solution2)\n",
    "tweak = multiple_mutation\n",
    "for steps in range(10_000):\n",
    "    new_solution = tweak(solution2)\n",
    "    new_fitness = fitness(new_solution)\n",
    "    if new_fitness > solution_fitness:\n",
    "        solution_fitness = new_fitness\n",
    "        solution2 = new_solution\n",
    "        #ic(fitness(solution))\n",
    "\n",
    "ic(fitness(solution2))"
   ]
  },
  {
   "cell_type": "code",
   "execution_count": 45,
   "metadata": {},
   "outputs": [
    {
     "name": "stderr",
     "output_type": "stream",
     "text": [
      "ic| solution_fitness: (np.True_, np.float64(-11954.831989556496))\n",
      "ic| fitness(best): (np.True_, np.float64(-7087.792396632931))\n"
     ]
    },
    {
     "data": {
      "text/plain": [
       "(np.True_, np.float64(-7087.792396632931))"
      ]
     },
     "execution_count": 45,
     "metadata": {},
     "output_type": "execute_result"
    }
   ],
   "source": [
    "#Iterated local search starting from the optimized solution\n",
    "solution_iterated = starting_optimized.copy() #start again from the optimized solution\n",
    "best = solution_iterated.copy()\n",
    "solution_fitness = fitness(best)\n",
    "ic(solution_fitness)\n",
    "for steps_perturbation in range(10):\n",
    "    while True:\n",
    "        solution_perturbated = multiple_mutation(solution_iterated)\n",
    "        if valid(solution_perturbated):\n",
    "            break\n",
    "    for steps_local in range(1000):\n",
    "        new_solution = single_mutation(solution_perturbated)\n",
    "        fitness_new = fitness(new_solution)\n",
    "        if fitness_new > solution_fitness:\n",
    "            solution_fitness = fitness_new\n",
    "            solution_perturbated = new_solution\n",
    "            best = new_solution.copy()\n",
    "ic(fitness(best))\n"
   ]
  },
  {
   "cell_type": "code",
   "execution_count": 46,
   "metadata": {},
   "outputs": [
    {
     "name": "stderr",
     "output_type": "stream",
     "text": [
      "ic| solution_fitness: (np.True_, np.float64("
     ]
    },
    {
     "name": "stderr",
     "output_type": "stream",
     "text": [
      "-34139.66312253977))\n",
      "ic| fitness(best): (np.True_, np.float64(-7168.687907867247))\n"
     ]
    },
    {
     "data": {
      "text/plain": [
       "(np.True_, np.float64(-7168.687907867247))"
      ]
     },
     "execution_count": 46,
     "metadata": {},
     "output_type": "execute_result"
    }
   ],
   "source": [
    "#Iterated local search starting from the full solution (all subsets)\n",
    "solution_iterated = np.full(NUM_SETS,True) \n",
    "best = solution_iterated.copy()\n",
    "solution_fitness = fitness(best)\n",
    "ic(solution_fitness)\n",
    "for steps_perturbation in range(100):\n",
    "    while True:\n",
    "        solution_perturbated = multiple_mutation(solution_iterated)\n",
    "        if valid(solution_perturbated):\n",
    "            break\n",
    "    for steps_local in range(1000):\n",
    "        new_solution = single_mutation(solution_perturbated)\n",
    "        fitness_new = fitness(new_solution)\n",
    "        if fitness_new > solution_fitness:\n",
    "            solution_fitness = fitness_new\n",
    "            solution_perturbated = new_solution\n",
    "            best = new_solution.copy()\n",
    "ic(fitness(best))"
   ]
  }
 ],
 "metadata": {
  "kernelspec": {
   "display_name": "venv",
   "language": "python",
   "name": "python3"
  },
  "language_info": {
   "codemirror_mode": {
    "name": "ipython",
    "version": 3
   },
   "file_extension": ".py",
   "mimetype": "text/x-python",
   "name": "python",
   "nbconvert_exporter": "python",
   "pygments_lexer": "ipython3",
   "version": "3.11.5"
  }
 },
 "nbformat": 4,
 "nbformat_minor": 4
}
