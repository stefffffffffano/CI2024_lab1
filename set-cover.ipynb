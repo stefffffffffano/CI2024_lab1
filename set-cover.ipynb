{
 "cells": [
  {
   "cell_type": "markdown",
   "metadata": {},
   "source": [
    "Copyright **`(c)`** 2024 Giovanni Squillero `<giovanni.squillero@polito.it>`  \n",
    "[`https://github.com/squillero/computational-intelligence`](https://github.com/squillero/computational-intelligence)  \n",
    "Free for personal or classroom use; see [`LICENSE.md`](https://github.com/squillero/computational-intelligence/blob/master/LICENSE.md) for details.  "
   ]
  },
  {
   "cell_type": "markdown",
   "metadata": {},
   "source": [
    "# Set Cover problem\n",
    "\n",
    "See: https://en.wikipedia.org/wiki/Set_cover_problem"
   ]
  },
  {
   "cell_type": "code",
   "execution_count": 1,
   "metadata": {},
   "outputs": [],
   "source": [
    "from random import random, seed\n",
    "from itertools import product\n",
    "import numpy as np\n",
    "\n",
    "from icecream import ic"
   ]
  },
  {
   "cell_type": "markdown",
   "metadata": {},
   "source": [
    "## Reproducible Initialization\n",
    "\n",
    "If you want to get reproducible results, use `rng` (and restart the kernel); for non-reproducible ones, use `np.random`."
   ]
  },
  {
   "cell_type": "code",
   "execution_count": 2,
   "metadata": {},
   "outputs": [],
   "source": [
    "UNIVERSE_SIZE = 100_000\n",
    "NUM_SETS = 10_000\n",
    "DENSITY = 0.3 #how dense are the sets, how many elements are covered by each set\n",
    "\n",
    "\n",
    "rng = np.random.Generator(np.random.PCG64([UNIVERSE_SIZE, NUM_SETS, int(10_000 * DENSITY)]))"
   ]
  },
  {
   "cell_type": "code",
   "execution_count": 3,
   "metadata": {},
   "outputs": [],
   "source": [
    "# DON'T EDIT THESE LINES!\n",
    "\n",
    "SETS = np.random.random((NUM_SETS, UNIVERSE_SIZE)) < DENSITY\n",
    "for s in range(UNIVERSE_SIZE):\n",
    "    if not np.any(SETS[:, s]):\n",
    "        SETS[np.random.randint(NUM_SETS), s] = True\n",
    "COSTS = np.pow(SETS.sum(axis=1), 1.1)"
   ]
  },
  {
   "cell_type": "markdown",
   "metadata": {},
   "source": [
    "## Helper Functions"
   ]
  },
  {
   "cell_type": "code",
   "execution_count": 4,
   "metadata": {},
   "outputs": [
    {
     "data": {
      "text/plain": [
       "'\\ndef tweak(solution):\\n    \\n    new_solution = solution.copy()\\n    # remove a random number of sets that is a percentage of the total number of sets\\n    for _ in range(int(NUM_SETS * 0.1)):\\n        v = np.random.randint(NUM_SETS)\\n        new_solution[v] = False\\n    return new_solution\\ndef tweak2(solution):\\n    \\n    new_solution = solution.copy()\\n    # remove a random number of sets that is a percentage of the total number of sets\\n    n = int(NUM_SETS*0.05)\\n    if n==0: #slightly better with 0.05\\n        n=1\\n    for _ in range(n):\\n        v = np.random.randint(NUM_SETS)\\n        new_solution[v] = not new_solution[v]\\n    return new_solution\\n'"
      ]
     },
     "execution_count": 4,
     "metadata": {},
     "output_type": "execute_result"
    }
   ],
   "source": [
    "def valid(solution):\n",
    "    \"\"\"Checks wether solution is valid (ie. covers all universe)\"\"\"\n",
    "    return np.all(np.logical_or.reduce(SETS[solution]))\n",
    "\n",
    "\n",
    "def cost(solution):\n",
    "    \"\"\"Returns the cost of a solution (to be minimized)\"\"\"\n",
    "    return COSTS[solution].sum()\n",
    "\n",
    "def tweak(solution: np.ndarray)->np.ndarray:\n",
    "    new_solution = solution.copy()\n",
    "    i = rng.integers(0, NUM_SETS)\n",
    "    new_solution[i] = not new_solution[i]\n",
    "    return new_solution\n",
    "\"\"\"\n",
    "def tweak(solution):\n",
    "    \n",
    "    new_solution = solution.copy()\n",
    "    # remove a random number of sets that is a percentage of the total number of sets\n",
    "    for _ in range(int(NUM_SETS * 0.1)):\n",
    "        v = np.random.randint(NUM_SETS)\n",
    "        new_solution[v] = False\n",
    "    return new_solution\n",
    "def tweak2(solution):\n",
    "    \n",
    "    new_solution = solution.copy()\n",
    "    # remove a random number of sets that is a percentage of the total number of sets\n",
    "    n = int(NUM_SETS*0.05)\n",
    "    if n==0: #slightly better with 0.05\n",
    "        n=1\n",
    "    for _ in range(n):\n",
    "        v = np.random.randint(NUM_SETS)\n",
    "        new_solution[v] = not new_solution[v]\n",
    "    return new_solution\n",
    "\"\"\""
   ]
  },
  {
   "cell_type": "code",
   "execution_count": 5,
   "metadata": {},
   "outputs": [],
   "source": [
    "def fitness(solution: np.ndarray):\n",
    "    return (valid(solution), -cost(solution))"
   ]
  },
  {
   "cell_type": "markdown",
   "metadata": {},
   "source": [
    "## Have Fun!"
   ]
  },
  {
   "cell_type": "code",
   "execution_count": 6,
   "metadata": {},
   "outputs": [
    {
     "data": {
      "text/plain": [
       "(np.True_, np.float64(841045518.9525087))"
      ]
     },
     "execution_count": 6,
     "metadata": {},
     "output_type": "execute_result"
    }
   ],
   "source": [
    "# A dumb solution of \"all\" sets\n",
    "solution = np.full(NUM_SETS, True)\n",
    "valid(solution), cost(solution)\n",
    "#If a value is covered just by one set, we don't need to hill climb, we can take it \n"
   ]
  },
  {
   "cell_type": "code",
   "execution_count": 7,
   "metadata": {},
   "outputs": [
    {
     "data": {
      "text/plain": [
       "(np.True_, np.float64(423487690.3441791))"
      ]
     },
     "execution_count": 7,
     "metadata": {},
     "output_type": "execute_result"
    }
   ],
   "source": [
    "# A random solution with random 50% of the sets\n",
    "solution = rng.random(NUM_SETS) < .5\n",
    "valid(solution), cost(solution)"
   ]
  },
  {
   "cell_type": "code",
   "execution_count": 8,
   "metadata": {},
   "outputs": [
    {
     "name": "stderr",
     "output_type": "stream",
     "text": [
      "ic| fitness(solution): (np.True_, np.float64(-841045518.9525087))\n",
      "ic| fitness(solution): (np.True_, np.float64(-840961834.1149039))\n",
      "ic| fitness(solution): (np.True_, np.float64(-840878158.5248156))\n",
      "ic| fitness(solution): (np.True_, np.float64(-840794834.2714214))\n",
      "ic| fitness(solution): (np.True_, np.float64(-840711466.8786577))\n",
      "ic| fitness(solution): (np.True_, np.float64(-840627569.3225565))\n",
      "ic| fitness(solution): (np.True_, np.float64(-840543782.7561438))\n",
      "ic| fitness(solution): (np.True_, np.float64(-840459299.2003136))\n",
      "ic| fitness(solution): (np.True_, np.float64(-840376132.080305))\n",
      "ic| fitness(solution): (np.True_, np.float64(-840292533.5492378))\n"
     ]
    },
    {
     "ename": "KeyboardInterrupt",
     "evalue": "",
     "output_type": "error",
     "traceback": [
      "\u001b[1;31m---------------------------------------------------------------------------\u001b[0m",
      "\u001b[1;31mKeyboardInterrupt\u001b[0m                         Traceback (most recent call last)",
      "Cell \u001b[1;32mIn[8], line 6\u001b[0m\n\u001b[0;32m      4\u001b[0m \u001b[38;5;28;01mfor\u001b[39;00m steps \u001b[38;5;129;01min\u001b[39;00m \u001b[38;5;28mrange\u001b[39m(\u001b[38;5;241m100_000\u001b[39m):\n\u001b[0;32m      5\u001b[0m     new_solution \u001b[38;5;241m=\u001b[39m tweak(solution)\n\u001b[1;32m----> 6\u001b[0m     \u001b[38;5;28;01mif\u001b[39;00m \u001b[43mfitness\u001b[49m\u001b[43m(\u001b[49m\u001b[43mnew_solution\u001b[49m\u001b[43m)\u001b[49m \u001b[38;5;241m>\u001b[39m fitness(solution):\n\u001b[0;32m      7\u001b[0m         solution \u001b[38;5;241m=\u001b[39m new_solution\n\u001b[0;32m      8\u001b[0m         ic(fitness(solution))\n",
      "Cell \u001b[1;32mIn[5], line 2\u001b[0m, in \u001b[0;36mfitness\u001b[1;34m(solution)\u001b[0m\n\u001b[0;32m      1\u001b[0m \u001b[38;5;28;01mdef\u001b[39;00m \u001b[38;5;21mfitness\u001b[39m(solution: np\u001b[38;5;241m.\u001b[39mndarray):\n\u001b[1;32m----> 2\u001b[0m     \u001b[38;5;28;01mreturn\u001b[39;00m (\u001b[43mvalid\u001b[49m\u001b[43m(\u001b[49m\u001b[43msolution\u001b[49m\u001b[43m)\u001b[49m, \u001b[38;5;241m-\u001b[39mcost(solution))\n",
      "Cell \u001b[1;32mIn[4], line 3\u001b[0m, in \u001b[0;36mvalid\u001b[1;34m(solution)\u001b[0m\n\u001b[0;32m      1\u001b[0m \u001b[38;5;28;01mdef\u001b[39;00m \u001b[38;5;21mvalid\u001b[39m(solution):\n\u001b[0;32m      2\u001b[0m \u001b[38;5;250m    \u001b[39m\u001b[38;5;124;03m\"\"\"Checks wether solution is valid (ie. covers all universe)\"\"\"\u001b[39;00m\n\u001b[1;32m----> 3\u001b[0m     \u001b[38;5;28;01mreturn\u001b[39;00m np\u001b[38;5;241m.\u001b[39mall(np\u001b[38;5;241m.\u001b[39mlogical_or\u001b[38;5;241m.\u001b[39mreduce(SETS[solution]))\n",
      "\u001b[1;31mKeyboardInterrupt\u001b[0m: "
     ]
    }
   ],
   "source": [
    "solution = np.full(NUM_SETS, True)\n",
    "ic(fitness(solution))\n",
    "\n",
    "for steps in range(100_000):\n",
    "    new_solution = tweak(solution)\n",
    "    if fitness(new_solution) > fitness(solution):\n",
    "        solution = new_solution\n",
    "        ic(fitness(solution))\n",
    "ic(fitness(solution))\n",
    "\"\"\"\n",
    "solution = np.full(NUM_SETS, True)\n",
    "#Let's take all of the sets\n",
    "valid(solution), cost(solution)\n",
    "num_it=1000\n",
    "#while(num_it>0):\n",
    "    #num_it-=1\n",
    "    #new_solution = tweak(solution)\n",
    "    #if valid(new_solution) and cost(new_solution) < cost(solution):\n",
    "        #ic(cost(new_solution))\n",
    "        #solution = new_solution\n",
    "#num_it=10000\n",
    "valid(solution), cost(solution)\n",
    "while(num_it>0):\n",
    "    num_it-=1\n",
    "    new_solution = tweak2(solution)\n",
    "    if valid(new_solution) and np.exp(-(cost(solution)-cost(new_solution))/t)>p:\n",
    "        ic(cost(new_solution))\n",
    "        solution = new_solution\n",
    "valid(solution), cost(solution)\n",
    "\"\"\""
   ]
  }
 ],
 "metadata": {
  "kernelspec": {
   "display_name": "venv",
   "language": "python",
   "name": "python3"
  },
  "language_info": {
   "codemirror_mode": {
    "name": "ipython",
    "version": 3
   },
   "file_extension": ".py",
   "mimetype": "text/x-python",
   "name": "python",
   "nbconvert_exporter": "python",
   "pygments_lexer": "ipython3",
   "version": "3.11.5"
  }
 },
 "nbformat": 4,
 "nbformat_minor": 4
}
