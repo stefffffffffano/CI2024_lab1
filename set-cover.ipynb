{
 "cells": [
  {
   "cell_type": "markdown",
   "metadata": {},
   "source": [
    "# Set Cover problem\n",
    "\n",
    "See: https://en.wikipedia.org/wiki/Set_cover_problem"
   ]
  },
  {
   "cell_type": "code",
   "execution_count": 997,
   "metadata": {},
   "outputs": [],
   "source": [
    "from random import random, seed\n",
    "import math\n",
    "from itertools import accumulate\n",
    "import numpy as np\n",
    "import matplotlib.pyplot as plt\n",
    "\n",
    "\n",
    "\n",
    "from icecream import ic"
   ]
  },
  {
   "cell_type": "markdown",
   "metadata": {},
   "source": [
    "## Reproducible Initialization\n",
    "\n",
    "If you want to get reproducible results, use `rng` (and restart the kernel); for non-reproducible ones, use `np.random`."
   ]
  },
  {
   "cell_type": "code",
   "execution_count": 998,
   "metadata": {},
   "outputs": [],
   "source": [
    "UNIVERSE_SIZE = 100000\n",
    "NUM_SETS = 10000\n",
    "DENSITY = 0.1 #how dense are the sets, how many elements are covered by each set\n",
    "\n",
    "\n",
    "rng = np.random.Generator(np.random.PCG64([UNIVERSE_SIZE, NUM_SETS, int(10_000 * DENSITY)]))"
   ]
  },
  {
   "cell_type": "code",
   "execution_count": 999,
   "metadata": {},
   "outputs": [],
   "source": [
    "# DON'T EDIT THESE LINES!\n",
    "\n",
    "SETS = np.random.random((NUM_SETS, UNIVERSE_SIZE)) < DENSITY\n",
    "for s in range(UNIVERSE_SIZE):\n",
    "    if not np.any(SETS[:, s]):\n",
    "        SETS[np.random.randint(NUM_SETS), s] = True\n",
    "COSTS = np.pow(SETS.sum(axis=1), 1.1)"
   ]
  },
  {
   "cell_type": "markdown",
   "metadata": {},
   "source": [
    "## Helper Functions"
   ]
  },
  {
   "cell_type": "code",
   "execution_count": 1000,
   "metadata": {},
   "outputs": [],
   "source": [
    "def valid(solution):\n",
    "    \"\"\"Checks wether solution is valid (ie. covers all universe)\"\"\"\n",
    "    return np.all(np.logical_or.reduce(SETS[solution]))\n",
    "\n",
    "\n",
    "def cost(solution):\n",
    "    \"\"\"Returns the cost of a solution (to be minimized)\"\"\"\n",
    "    return COSTS[solution].sum()\n"
   ]
  },
  {
   "cell_type": "markdown",
   "metadata": {},
   "source": [
    "## CHOSEN SOLUTION"
   ]
  },
  {
   "cell_type": "markdown",
   "metadata": {},
   "source": [
    "## Fitness\n",
    "The fitness defines the goodness of a solution. I decided to return a tuple containing (coverage,-cost).\n",
    "The coverage represents the number of elements in the universe that are covered, while the cost is defined as above."
   ]
  },
  {
   "cell_type": "code",
   "execution_count": 1001,
   "metadata": {},
   "outputs": [],
   "source": [
    "#The fitness function evaluate the goodness of a solution\n",
    "def fitness(solution: np.ndarray):\n",
    "    \"\"\"Returns a tuple containing first the number of elements covered by the solution and then the cost of the solution (negative->to be maximized)\"\"\"\n",
    "    return (np.sum(np.logical_or.reduce(SETS[solution])), -cost(solution))"
   ]
  },
  {
   "cell_type": "markdown",
   "metadata": {},
   "source": [
    "## GREEDY INITIALIZATION"
   ]
  },
  {
   "cell_type": "code",
   "execution_count": 1002,
   "metadata": {},
   "outputs": [],
   "source": [
    "def greedy_cover_selection():\n",
    "    \"\"\"Greedy approach to generate an initial solution for the Set Cover problem.\"\"\"\n",
    "    covered_elements = np.zeros(SETS.shape[1], dtype=bool)\n",
    "    selected_sets = np.zeros(len(SETS), dtype=bool)\n",
    "    \n",
    "    while not np.all(covered_elements):\n",
    "        optimal_set = -1\n",
    "        optimal_cost_ratio = float('inf')\n",
    "        \n",
    "        for idx in range(len(SETS)):\n",
    "            if selected_sets[idx]:  # Skip already selected sets\n",
    "                continue\n",
    "            uncovered_elements = np.logical_and(SETS[idx], np.logical_not(covered_elements)).sum()\n",
    "            if uncovered_elements > 0:\n",
    "                cost_efficiency = COSTS[idx] / uncovered_elements\n",
    "                if cost_efficiency < optimal_cost_ratio:\n",
    "                    optimal_cost_ratio = cost_efficiency\n",
    "                    optimal_set = idx\n",
    "        \n",
    "        selected_sets[optimal_set] = True\n",
    "        covered_elements = np.logical_or(covered_elements, SETS[optimal_set])\n",
    "        \n",
    "    return selected_sets\n"
   ]
  },
  {
   "cell_type": "code",
   "execution_count": 1003,
   "metadata": {},
   "outputs": [
    {
     "name": "stderr",
     "output_type": "stream",
     "text": [
      "ic| solution_fitness: (np.int64(100000), np.float64(-1528012.1791879225))\n"
     ]
    }
   ],
   "source": [
    "history = []\n",
    "starting_solution = greedy_cover_selection()\n",
    "solution_fitness = fitness(starting_solution)\n",
    "ic(solution_fitness) #starting point\n",
    "history.append(solution_fitness[1])\n"
   ]
  },
  {
   "cell_type": "markdown",
   "metadata": {},
   "source": [
    "## TWEAK FUNCTION"
   ]
  },
  {
   "cell_type": "code",
   "execution_count": 1004,
   "metadata": {},
   "outputs": [],
   "source": [
    "def multiple_mutation_strength(solution: np.ndarray, strength: float)->np.ndarray:  \n",
    "    new_solution = solution.copy()\n",
    "    mask = rng.random(NUM_SETS) < strength\n",
    "    new_solution = np.logical_xor(solution,mask)\n",
    "    return new_solution"
   ]
  },
  {
   "cell_type": "markdown",
   "metadata": {},
   "source": [
    "## PARAMETER TUNING\n",
    "The algorithm should adapt to changes to instances of the problem\n",
    "If we use a modified version of iterated local search, we have basically to adapt 2 main parameters:\n",
    "- Strength (approximately the percentage of elements tweaked with respect to the current solution)\n",
    "- Number of iterations (function of the problem size: it should increase with it, but it depends on the time required to execute the algorithm)\n",
    "  \n",
    "The strength depends on the density: if the density is high, the solution is less sensitive to small changes."
   ]
  },
  {
   "cell_type": "code",
   "execution_count": 1005,
   "metadata": {},
   "outputs": [
    {
     "name": "stderr",
     "output_type": "stream",
     "text": [
      "ic| number_iteration: 115.0\n",
      "    number_iteration_exploration: 23\n",
      "    number_iteration_exploitation: 92\n"
     ]
    }
   ],
   "source": [
    "BASE_ITERATIONS = 20\n",
    "number_iteration = int(BASE_ITERATIONS*math.log(UNIVERSE_SIZE))/2\n",
    "number_iteration_exploration = int(number_iteration*0.2)\n",
    "number_iteration_exploitation = int(number_iteration - number_iteration_exploration)\n",
    "ic(number_iteration, number_iteration_exploration, number_iteration_exploitation)\n",
    "\n",
    "#At the beginning I should favor exploration, then I should favor exploitation\n",
    "#The strength depends on the density: if the density is high, the solution is less sensitive to small changes\n",
    "BASE_STRENGTH = (0.1/UNIVERSE_SIZE)\n",
    "strength = BASE_STRENGTH * (1+DENSITY)"
   ]
  },
  {
   "cell_type": "markdown",
   "metadata": {},
   "source": [
    "## Hill climbing with self adaptive strength\n",
    "The starting point is the empty solution. There are two cicles: the outer one where the tweak uses an higher strength to favor exploration and an inner one, where the strength is lower, to favor exploitation.\n",
    "The strength is modified based on the convergence of the solution: when we are close to all the elements covered, it is decreased not to add too many sets but still reach a valid solution. When we are far from a valid solution, we increase it, so that, statistically, we are able to tweak more elements and reach an higher coverage (particularly at the beginning). In case the universe is completely covered, we have iterations left to improve the current solution: so we try to increase or decrease the temperature to favor exploration/exploitation based on the previous results."
   ]
  },
  {
   "cell_type": "code",
   "execution_count": 1006,
   "metadata": {},
   "outputs": [
    {
     "name": "stderr",
     "output_type": "stream",
     "text": [
      "ic| count_iteration: 2116\n",
      "ic| fitness(best): (np.int64(100000), np.float64(-2437831.577057764))\n",
      "ic| valid(best): np.True_\n"
     ]
    },
    {
     "data": {
      "text/plain": [
       "np.True_"
      ]
     },
     "execution_count": 1006,
     "metadata": {},
     "output_type": "execute_result"
    }
   ],
   "source": [
    "\n",
    "best = np.full(NUM_SETS,False) #Completely empty solution -> no set selected\n",
    "count_iteration = 0\n",
    "buffer = []\n",
    "BUF_LENGTH = int(number_iteration/5)\n",
    "solution_fitness = (0,-0)\n",
    "for steps_perturbation in range(int(number_iteration_exploration)):\n",
    "    if(solution_fitness[0]<UNIVERSE_SIZE/1.5):\n",
    "        strength*=(1+(1-DENSITY)*5)\n",
    "    elif(solution_fitness[0]>UNIVERSE_SIZE/1.5 and solution_fitness[0]<UNIVERSE_SIZE):\n",
    "        if(strength>1*DENSITY):\n",
    "            strength*=1/(DENSITY*15)\n",
    "    else:\n",
    "        buffer = buffer[BUF_LENGTH:]\n",
    "        if(np.sum(buffer)>1):\n",
    "            strength *= (1+DENSITY)\n",
    "        else:\n",
    "            strength *= (1-DENSITY)\n",
    "    solution_perturbated = multiple_mutation_strength(best,strength*4) #a huge mutation->exploration\n",
    "    for steps_local in range(number_iteration_exploitation):\n",
    "        count_iteration+=1\n",
    "        new_solution = multiple_mutation_strength(solution_perturbated,strength) \n",
    "        fitness_new = fitness(new_solution)\n",
    "        buffer.append(fitness_new > solution_fitness)\n",
    "        if fitness_new > solution_fitness:\n",
    "            solution_fitness = fitness_new\n",
    "            solution_perturbated = new_solution\n",
    "            best = new_solution.copy()\n",
    "ic(count_iteration)\n",
    "ic(fitness(best))\n",
    "ic(valid(best))"
   ]
  },
  {
   "cell_type": "markdown",
   "metadata": {},
   "source": [
    "## Starting with the Greedy solution\n",
    "Taking the greedy solution as a starting point is obviously the best option, even if my algorithm is not able to find a solution that improves the starting point. Thus, I leave the previous section as a demonstration that the algorithm works. Basically it's just an Hill Climbing with self-adaptive temperature (based on the density) if the starting point is already valid. But, since the greedy starting point is really very optimized, it is difficult to find something better."
   ]
  },
  {
   "cell_type": "code",
   "execution_count": 1007,
   "metadata": {},
   "outputs": [
    {
     "name": "stderr",
     "output_type": "stream",
     "text": [
      "ic| number_iteration: 115.0\n",
      "    number_iteration_exploration: 23\n",
      "    number_iteration_exploitation: 92\n"
     ]
    }
   ],
   "source": [
    "BASE_ITERATIONS = 20\n",
    "number_iteration = int(BASE_ITERATIONS*math.log(UNIVERSE_SIZE))/2\n",
    "number_iteration_exploration = int(number_iteration*0.2)\n",
    "number_iteration_exploitation = int(number_iteration - number_iteration_exploration)\n",
    "ic(number_iteration, number_iteration_exploration, number_iteration_exploitation)\n",
    "\n",
    "#At the beginning I should favor exploration, then I should favor exploitation\n",
    "#The strength depends on the density: if the density is high, the solution is less sensitive to small changes\n",
    "BASE_STRENGTH = (0.1/UNIVERSE_SIZE)\n",
    "strength = BASE_STRENGTH * (1+DENSITY)"
   ]
  },
  {
   "cell_type": "code",
   "execution_count": 1008,
   "metadata": {},
   "outputs": [
    {
     "name": "stderr",
     "output_type": "stream",
     "text": [
      "ic| count_iteration: 2116\n",
      "ic| fitness(best): (np.int64(100000), np.float64(-1528012.1791879225))\n",
      "ic| valid(best): np.True_\n"
     ]
    },
    {
     "data": {
      "text/plain": [
       "np.True_"
      ]
     },
     "execution_count": 1008,
     "metadata": {},
     "output_type": "execute_result"
    }
   ],
   "source": [
    "\n",
    "best = starting_solution.copy()\n",
    "count_iteration = 0\n",
    "buffer = []\n",
    "BUF_LENGTH = int(number_iteration/5)\n",
    "solution_fitness = (0,-0)\n",
    "for steps_perturbation in range(int(number_iteration_exploration)):\n",
    "    if(solution_fitness[0]<UNIVERSE_SIZE/1.5):\n",
    "        strength*=(1+(1-DENSITY)*5)\n",
    "    elif(solution_fitness[0]>UNIVERSE_SIZE/1.5 and solution_fitness[0]<UNIVERSE_SIZE):\n",
    "        if(strength>1*DENSITY):\n",
    "            strength*=1/(DENSITY*15)\n",
    "    else:\n",
    "        buffer = buffer[BUF_LENGTH:]\n",
    "        if(np.sum(buffer)>1):\n",
    "            strength *= (1+DENSITY)\n",
    "        else:\n",
    "            strength *= (1-DENSITY)\n",
    "\n",
    "    solution_perturbated = multiple_mutation_strength(best,strength*4) #a huge mutation->exploration\n",
    "    for steps_local in range(number_iteration_exploitation):\n",
    "        count_iteration+=1\n",
    "        new_solution = multiple_mutation_strength(solution_perturbated,strength) \n",
    "        fitness_new = fitness(new_solution)\n",
    "        buffer.append(fitness_new > solution_fitness)\n",
    "        if fitness_new > solution_fitness:\n",
    "            solution_fitness = fitness_new\n",
    "            solution_perturbated = new_solution\n",
    "            best = new_solution.copy()\n",
    "ic(count_iteration)\n",
    "ic(fitness(best))\n",
    "ic(valid(best))\n"
   ]
  }
 ],
 "metadata": {
  "kernelspec": {
   "display_name": "venv",
   "language": "python",
   "name": "python3"
  },
  "language_info": {
   "codemirror_mode": {
    "name": "ipython",
    "version": 3
   },
   "file_extension": ".py",
   "mimetype": "text/x-python",
   "name": "python",
   "nbconvert_exporter": "python",
   "pygments_lexer": "ipython3",
   "version": "3.11.5"
  }
 },
 "nbformat": 4,
 "nbformat_minor": 4
}
